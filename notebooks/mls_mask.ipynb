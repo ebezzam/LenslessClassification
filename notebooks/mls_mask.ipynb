{
 "cells": [
  {
   "cell_type": "code",
   "execution_count": null,
   "metadata": {},
   "outputs": [],
   "source": [
    "from scipy.signal import max_len_seq\n",
    "import matplotlib.pyplot as plt\n",
    "import numpy as np\n",
    "from lensless.plot import plot_image"
   ]
  },
  {
   "cell_type": "code",
   "execution_count": null,
   "metadata": {},
   "outputs": [],
   "source": [
    "crop_fact = 0.8\n",
    "sensor = \"rpi_hq\"\n",
    "\n",
    "nbits = 8   # length 255\n",
    "nbits = 7   # length 127\n",
    "nbits = 6   # length 63, for feature size of 30um like min size in FlatCam paper\n",
    "\n",
    "scene2mask = 0.4\n",
    "\n",
    "mask2sensor = 0.004\n",
    "mask2sensor = 0.5e-3   # in FlatCam paper\n",
    "\n",
    "# generate MLS sequence in FlatCam paper\n",
    "\n",
    "h = max_len_seq(nbits=nbits)[0]\n",
    "print(len(h))\n",
    "print(sum(h))   # check number of openings\n",
    "\n",
    "plt.plot(h)\n"
   ]
  },
  {
   "cell_type": "code",
   "execution_count": null,
   "metadata": {},
   "outputs": [],
   "source": [
    "# repeat and outer product for the mask\n",
    "h_r = np.r_[h, h]\n",
    "print(len(h_r))\n",
    "\n",
    "mask = np.outer(h_r, h_r)\n",
    "print(mask.shape)\n",
    "\n",
    "# undiffracted mask\n",
    "plot_image(mask, normalize=True);"
   ]
  },
  {
   "cell_type": "code",
   "execution_count": null,
   "metadata": {},
   "outputs": [],
   "source": [
    "# resize mask for sensor resolution\n",
    "from lensless.util import resize\n",
    "import cv2\n",
    "\n",
    "\n",
    "# sensor dimensions\n",
    "sensor_param = sensor_dict[sensor]\n",
    "pprint(sensor_param)\n",
    "\n",
    "input_shape = sensor_param[SensorParam.SHAPE]\n",
    "\n",
    "# -- samples planes according to sensor resolution\n",
    "d1 = sensor_param[SensorParam.SIZE] / input_shape\n",
    "# print(d1)\n",
    "\n",
    "# in FlatCam they use 30-100 um features\n",
    "shape = tuple((np.array([3040, 3040]) * crop_fact).astype(int))\n",
    "mask_resize = resize(mask, shape=shape, interpolation=cv2.INTER_NEAREST)\n",
    "\n",
    "# pad to sensor resolution\n",
    "padding = sensor_param[SensorParam.SHAPE] - mask_resize.shape\n",
    "# print(padding)\n",
    "left = padding[0] // 2\n",
    "right = padding[0] - left\n",
    "top = padding[1] // 2\n",
    "bottom = padding[1] - top\n",
    "mask_resize = np.pad(mask_resize, pad_width=((left, right), (top, bottom)))\n",
    "\n",
    "# undiffracted mask\n",
    "plot_image(mask_resize, normalize=True);"
   ]
  },
  {
   "cell_type": "code",
   "execution_count": null,
   "metadata": {},
   "outputs": [],
   "source": [
    "## in FlatCam they use 30-100 um features\n",
    "\n",
    "# estimate of feature size\n",
    "fact = shape[1] / mask.shape[1]\n",
    "print(\"resize fact :\", fact)\n",
    "mask_overlap_size = shape[1] * d1[1]\n",
    "# print(mask_overlap_size)\n",
    "feature_size = mask_overlap_size / len(h_r)\n",
    "print(\"feature size :\", feature_size)"
   ]
  },
  {
   "cell_type": "code",
   "execution_count": null,
   "metadata": {},
   "outputs": [],
   "source": [
    "# obtain PSF corresponding to mask\n",
    "from pprint import pprint\n",
    "from waveprop.spherical import spherical_prop\n",
    "from waveprop.color import ColorSystem\n",
    "\n",
    "# -- spherical propagation from object to mask\n",
    "color_system = ColorSystem.rgb()\n",
    "spherical_wavefront = spherical_prop(\n",
    "    in_shape=input_shape,\n",
    "    d1=d1,\n",
    "    wv=color_system.wv,\n",
    "    dz=scene2mask,\n",
    "    return_psf=True,\n",
    "    is_torch=False,\n",
    "    dtype=np.float32\n",
    ")\n",
    "\n",
    "# -- apply mask\n",
    "u_in = mask_resize * spherical_wavefront\n",
    "\n",
    "# -- diffraction / free-space to sensor\n",
    "\n",
    "\n",
    "# # -- spherical propagation from object to mask\n",
    "# u_in = mask * self.spherical_wavefront\n",
    "\n",
    "# # -- diffract from mask to sensor"
   ]
  },
  {
   "cell_type": "code",
   "execution_count": null,
   "metadata": {},
   "outputs": [],
   "source": [
    "from waveprop.rs import angular_spectrum\n",
    "import time\n",
    "\n",
    "\n",
    "# -- apply mask\n",
    "u_in = mask_resize * spherical_wavefront\n",
    "\n",
    "# -- diffraction / free-space to sensor\n",
    "psfs = np.zeros(u_in.shape, dtype=np.complex64)\n",
    "start_time = time.time()\n",
    "for i in range(color_system.n_wavelength):\n",
    "    psfs[i], _, _ = angular_spectrum(\n",
    "        u_in=u_in[i],\n",
    "        wv=color_system.wv[i],\n",
    "        d1=d1,\n",
    "        dz=mask2sensor,\n",
    "        dtype=np.float32\n",
    "    )\n",
    "    print(time.time() - start_time)\n",
    "\n",
    "psfs = psfs / np.linalg.norm(psfs.flatten())"
   ]
  },
  {
   "cell_type": "code",
   "execution_count": null,
   "metadata": {},
   "outputs": [],
   "source": [
    "psf_int = np.abs(psfs) ** 2\n",
    "print(psf_int.shape)"
   ]
  },
  {
   "cell_type": "code",
   "execution_count": null,
   "metadata": {},
   "outputs": [],
   "source": [
    "psf_reshape = np.transpose(psf_int, axes=(1, 2, 0))\n",
    "\n",
    "# diffracted mask\n",
    "plot_image(psf_reshape, normalize=True);"
   ]
  },
  {
   "cell_type": "code",
   "execution_count": null,
   "metadata": {},
   "outputs": [],
   "source": [
    "from datetime import datetime\n",
    "timestamp = datetime.now().strftime(\"%d%m%Y_%Hh%M\")\n",
    "from lensless.util import print_image_info\n",
    "\n",
    "bit_depth = 8   # for viewable image\n",
    "out_dtype = dtype=np.uint8\n",
    "\n",
    "bit_depth = 12     # like on Raspberry pi\n",
    "out_dtype = dtype=np.uint16\n",
    "\n",
    "# cast to uint as on sensor\n",
    "psf_sim = psf_reshape / psf_reshape.max()\n",
    "psf_sim *= 2**bit_depth - 1\n",
    "psf_sim = psf_sim.astype(out_dtype)\n",
    "print_image_info(psf_sim)\n",
    "\n",
    "fp = f\"simulated_mls{len(h)}_mask2sensor{mask2sensor}_{timestamp}_{bit_depth}bit.png\"\n",
    "cv2.imwrite(fp, cv2.cvtColor(psf_sim, cv2.COLOR_RGB2BGR))\n",
    "print(\"Saved simulated PSF to : \", fp)"
   ]
  },
  {
   "cell_type": "code",
   "execution_count": null,
   "metadata": {},
   "outputs": [],
   "source": []
  },
  {
   "cell_type": "code",
   "execution_count": null,
   "metadata": {},
   "outputs": [],
   "source": []
  },
  {
   "cell_type": "code",
   "execution_count": null,
   "metadata": {},
   "outputs": [],
   "source": []
  }
 ],
 "metadata": {
  "kernelspec": {
   "display_name": "lensless_class",
   "language": "python",
   "name": "lensless_class"
  },
  "language_info": {
   "codemirror_mode": {
    "name": "ipython",
    "version": 3
   },
   "file_extension": ".py",
   "mimetype": "text/x-python",
   "name": "python",
   "nbconvert_exporter": "python",
   "pygments_lexer": "ipython3",
   "version": "3.9.11"
  },
  "orig_nbformat": 4
 },
 "nbformat": 4,
 "nbformat_minor": 2
}
